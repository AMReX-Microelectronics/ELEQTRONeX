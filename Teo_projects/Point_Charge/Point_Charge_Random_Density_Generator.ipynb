{
 "cells": [
  {
   "cell_type": "code",
   "execution_count": 6,
   "id": "9f546167-6540-4e8a-99c0-51cc059ab478",
   "metadata": {},
   "outputs": [
    {
     "name": "stdout",
     "output_type": "stream",
     "text": [
      "charge_density_source.num = 30\n",
      "charge_density_source.type = point_charge\n",
      "pc_1.location = -8.01e-10 -4.08e-08 1.54e-09\n",
      "pc_2.location = -2.72e-10 5.69e-08 4.41e-09\n",
      "pc_3.location = 1.18e-09 -8.80e-09 3.64e-09\n",
      "pc_4.location = -1.19e-09 -3.54e-08 1.94e-09\n",
      "pc_5.location = 2.61e-10 2.88e-08 4.81e-09\n",
      "pc_6.location = 6.53e-11 -1.57e-08 2.63e-09\n",
      "pc_7.location = -2.36e-11 -4.73e-08 1.89e-09\n",
      "pc_8.location = 6.43e-10 -8.79e-09 5.59e-09\n",
      "pc_9.location = -1.37e-10 2.99e-08 1.29e-09\n",
      "pc_10.location = 5.93e-10 -1.79e-08 2.26e-09\n",
      "pc_11.location = 9.87e-10 4.95e-08 4.41e-09\n",
      "pc_12.location = 4.79e-11 1.36e-08 1.52e-09\n",
      "pc_13.location = 8.48e-10 -2.08e-08 5.26e-09\n",
      "pc_14.location = -3.56e-10 3.97e-08 4.01e-09\n",
      "pc_15.location = 1.15e-09 -2.08e-09 5.56e-09\n",
      "pc_16.location = 1.86e-10 5.06e-08 2.50e-09\n",
      "pc_17.location = -1.54e-10 4.05e-09 2.90e-09\n",
      "pc_18.location = -7.47e-10 3.77e-08 2.90e-09\n",
      "pc_19.location = -7.16e-10 4.40e-08 2.08e-09\n",
      "pc_20.location = -7.84e-10 2.19e-08 5.29e-09\n",
      "pc_21.location = 1.00e-09 -5.11e-08 3.98e-09\n",
      "pc_22.location = 1.12e-09 -1.23e-08 1.89e-09\n",
      "pc_23.location = 5.99e-10 -4.04e-09 1.29e-09\n",
      "pc_24.location = -7.94e-10 3.70e-08 4.02e-09\n",
      "pc_25.location = 9.50e-10 -4.71e-08 2.36e-09\n",
      "pc_26.location = 7.47e-10 -6.32e-09 5.22e-09\n",
      "pc_27.location = 4.79e-10 -2.48e-08 2.16e-09\n",
      "pc_28.location = -9.23e-10 3.68e-08 3.81e-09\n",
      "pc_29.location = -2.81e-10 -6.24e-08 4.03e-09\n",
      "pc_30.location = 1.56e-10 -2.40e-08 5.69e-09\n"
     ]
    }
   ],
   "source": [
    "import numpy as np\n",
    "\n",
    "def generate_point_charges(xmin, xmax, ymin, ymax, zmin, zmax, density):\n",
    "    # Compute the volume of the bounding box\n",
    "    volume = (xmax - xmin)*(ymax - ymin)*(zmax - zmin)\n",
    "    \n",
    "    # Calculate the number of point charges based on the density\n",
    "    num_charges = int(volume*density)\n",
    "    \n",
    "    # Generate random positions for the point charges\n",
    "    x_coords = np.random.uniform(xmin, xmax, num_charges)\n",
    "    y_coords = np.random.uniform(ymin, ymax, num_charges)\n",
    "    z_coords = np.random.uniform(zmin, zmax, num_charges)\n",
    "    \n",
    "    # Format the output\n",
    "    output = []\n",
    "    output.append(f\"charge_density_source.num = {num_charges}\")\n",
    "    output.append(\"charge_density_source.type = point_charge\")\n",
    "    \n",
    "    for i in range(num_charges):\n",
    "        output.append(f\"pc_{i+1}.location = {x_coords[i]:.2e} {y_coords[i]:.2e} {z_coords[i]:.2e}\")\n",
    "    \n",
    "    return output\n",
    "\n",
    "# Example usage\n",
    "# Domain boundaries in nm\n",
    "Gate_oxide_width = 2.556\n",
    "Gate_oxide_length = 135\n",
    "Gate_oxide_bottom = 1.23\n",
    "Gate_oxide_thickness = 5\n",
    "\n",
    "xmin, xmax = -0.99*Gate_oxide_width/2, 0.99*Gate_oxide_width/2 \n",
    "ymin, ymax = -0.99*Gate_oxide_length/2, 0.99*Gate_oxide_length/2\n",
    "zmin, zmax = Gate_oxide_bottom, 0.99*(Gate_oxide_bottom + Gate_oxide_thickness)\n",
    "density = 0.018 # Point charges per cubic nanometer\n",
    "\n",
    "# Generate and print the output\n",
    "output = generate_point_charges(xmin*10**-9, xmax*10**-9, ymin*10**-9, ymax*10**-9, zmin*10**-9, zmax*10**-9, density*10**27)\n",
    "print(\"\\n\".join(output))\n"
   ]
  },
  {
   "cell_type": "code",
   "execution_count": null,
   "id": "98ad774b-9c27-4a2c-bee9-3bdce540680e",
   "metadata": {},
   "outputs": [],
   "source": []
  }
 ],
 "metadata": {
  "kernelspec": {
   "display_name": "Python 3 (ipykernel)",
   "language": "python",
   "name": "python3"
  },
  "language_info": {
   "codemirror_mode": {
    "name": "ipython",
    "version": 3
   },
   "file_extension": ".py",
   "mimetype": "text/x-python",
   "name": "python",
   "nbconvert_exporter": "python",
   "pygments_lexer": "ipython3",
   "version": "3.10.12"
  }
 },
 "nbformat": 4,
 "nbformat_minor": 5
}
