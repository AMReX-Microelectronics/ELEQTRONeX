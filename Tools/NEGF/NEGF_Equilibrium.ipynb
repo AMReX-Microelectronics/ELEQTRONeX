{
 "cells": [
  {
   "cell_type": "code",
   "execution_count": 286,
   "id": "dd2fd125",
   "metadata": {},
   "outputs": [],
   "source": [
    "import matplotlib.pyplot as plt\n",
    "import numpy as np\n",
    "from mpl_toolkits.axes_grid1 import make_axes_locatable\n",
    "import matplotlib.ticker as ticker\n",
    "from matplotlib.ticker import MaxNLocator\n",
    "from matplotlib.ticker import (MultipleLocator, FormatStrFormatter,\n",
    "                               AutoMinorLocator)\n",
    "plt.rcParams.update({'font.size': 12})\n",
    "import seaborn as sns\n",
    "import cmath\n",
    "import math \n",
    "def custom_plot_single(x_lst, y_lst, label_lst, xlim, ylim, label,pltname,\n",
    "                       color=['k','r','b','g','o','br'],\n",
    "                       linestyle=['solid','dashed','solid','dashed','solid','dashed'],\n",
    "                       markertype=[None,None,'o','^','o','^'],\n",
    "                       fillstyle=['none','none','none','none','full','full'],\n",
    "                       linewidth=20*[3],\n",
    "                       markevery=[45,30,50,40,56,72,63,95]):\n",
    "    \n",
    "    fig, ax1 = plt.subplots(1,1)\n",
    "    fig.set_size_inches(10,10)\n",
    "    fig.patch.set_facecolor('white')\n",
    "    ax1.patch.set_facecolor('white')\n",
    "    for p in range(0, len(x_lst)):\n",
    "        ax1.plot(x_lst[p], y_lst[p], color[p],\n",
    "                 linewidth=linewidth[p],\n",
    "                 linestyle=linestyle[p],\n",
    "                 marker=markertype[p],\n",
    "                 fillstyle=fillstyle[p],\n",
    "                 markevery=markevery[p],\n",
    "                 markersize=8,\n",
    "                 label=label_lst[p])\n",
    "\n",
    "    ax1.legend(prop={'size': 20},loc='best')\n",
    "    ax1.tick_params(which='minor', width=2, length=4, color='k')\n",
    "    ax1.tick_params(which='major', width=2, length=8, color='k')\n",
    "\n",
    "    ax1.xaxis.set_minor_locator(ticker.AutoMinorLocator())\n",
    "    ax1.yaxis.set_minor_locator(ticker.AutoMinorLocator())\n",
    "    ax1.legend(prop={'size': 20},loc='best')#,shadow=True)\n",
    "\n",
    "    ax1.set_ylim(ylim[0],ylim[1])\n",
    "    ax1.set_xlim(xlim[0],xlim[1])\n",
    "    ax1.set_xlabel(label[0], fontsize=25)#, fontdict=dict(weight='bold'))\n",
    "    ax1.set_ylabel(label[1], fontsize=25)#, fontdict=dict(weight='bold'))\n",
    "    fontsize=25\n",
    "    for tick in ax1.xaxis.get_major_ticks():\n",
    "        tick.label1.set_fontsize(fontsize)\n",
    "\n",
    "    for tick in ax1.yaxis.get_major_ticks():\n",
    "        tick.label1.set_fontsize(fontsize)\n",
    "        \n",
    "    plt.savefig(pltname, bbox_inches = \"tight\")"
   ]
  },
  {
   "cell_type": "code",
   "execution_count": 287,
   "id": "d3de0042",
   "metadata": {},
   "outputs": [],
   "source": [
    "PrintFigures=False"
   ]
  },
  {
   "cell_type": "code",
   "execution_count": 288,
   "id": "848a5750",
   "metadata": {},
   "outputs": [],
   "source": [
    "num_CNT_Files=1\n",
    "num_layers=280\n",
    "num_layers_contacts=28\n",
    "num_layers_ch =num_layers-2*num_layers_contacts #ch for channel\n",
    "\n",
    "acc = 0.142e-9 #nm\n",
    "nring_per_unitcell = 4 #for a zigzag nanotube\n",
    "Y_offset = -15.0165e-9 #nm\n",
    "nano=1e-9\n",
    "\n",
    "layer = np.empty((num_CNT_Files,num_layers),dtype=int)\n",
    "avg_field = np.empty((num_CNT_Files,num_layers),dtype=float)\n",
    "\n",
    "file_name = np.empty(num_CNT_Files,dtype=object)\n",
    "\n",
    "#path = '../ImpRuns/GVdot5V_NoChargeDensity/'\n",
    "#path = '../ImpRuns/GVdot5V_someChargeDensity/'\n",
    "#path = '../ImpRuns/Verification_XdZdot5V_NoChargeDensity/'\n",
    "path = ''"
   ]
  },
  {
   "cell_type": "code",
   "execution_count": 289,
   "id": "df8e9d85",
   "metadata": {},
   "outputs": [],
   "source": [
    "for c in range(0, num_CNT_Files):\n",
    "    file_name[c] = path + 'avg_gatherField_%d.dat'%(c)\n",
    "\n",
    "for f in range(0,num_CNT_Files):\n",
    "    file = open(file_name[f])\n",
    "    lst = []\n",
    "    counter=0\n",
    "    for line in file:     \n",
    "        if (counter >= 0):\n",
    "            lst += [line.split()]\n",
    "        else:\n",
    "            print(line)\n",
    "        counter = counter + 1 \n",
    "    layer[f]      = [x[0] for x in lst]\n",
    "    avg_field[f]  = [x[1] for x in lst]\n",
    "        "
   ]
  },
  {
   "cell_type": "code",
   "execution_count": 290,
   "id": "789d014b",
   "metadata": {},
   "outputs": [
    {
     "name": "stdout",
     "output_type": "stream",
     "text": [
      "avg_gatherField_0.dat\n"
     ]
    }
   ],
   "source": [
    "print(file_name[0])"
   ]
  },
  {
   "cell_type": "code",
   "execution_count": 291,
   "id": "c03d218d",
   "metadata": {},
   "outputs": [],
   "source": [
    "axial_loc = np.empty(num_layers,dtype=float)\n",
    "\n",
    "def get_axial_loc(r,ACC):\n",
    "    y=0.\n",
    "    if(r % 2 == 0):\n",
    "        y = ACC\n",
    "    elif (r%2 == 1):\n",
    "        y = ACC/2\n",
    "    return y\n",
    " \n",
    "axial_loc[0]=acc\n",
    "\n",
    "for l in range(1,num_layers):\n",
    "    rID_in_unitcell = l%nring_per_unitcell   \n",
    "#    print(rID_in_unitcell)\n",
    "    axial_loc[l] = axial_loc[l-1] + get_axial_loc(rID_in_unitcell,acc)\n",
    "    \n",
    "for l in range(0,num_layers):\n",
    "    axial_loc[l] += Y_offset                  \n",
    "    "
   ]
  },
  {
   "cell_type": "code",
   "execution_count": 292,
   "id": "aaba810f",
   "metadata": {},
   "outputs": [],
   "source": [
    "layer_ch = np.empty((num_CNT_Files,num_layers_ch),dtype=int)\n",
    "\n",
    "axial_loc_ch = np.empty(num_layers_ch,dtype=float)\n",
    "avg_field_ch = np.empty((num_CNT_Files,num_layers_ch),dtype=float)\n",
    "\n",
    "for f in range(0,num_CNT_Files):\n",
    "    axial_loc_ch = axial_loc[num_layers_contacts:num_layers-num_layers_contacts]\n",
    "    avg_field_ch[f] = avg_field[f][num_layers_contacts:num_layers-num_layers_contacts]\n",
    "    \n",
    "# custom_plot_single([axial_loc/nano,axial_loc_ch/nano], \n",
    "#                    [avg_field[0],avg_field_ch[0]],\n",
    "#                    [r'avg field',r'avg field (in channel)'],\n",
    "#                    [-16,16],[-0.01,0.5],[r'Layer / (nm)',r'Potential / (V)'],'Layer_vs_Potential.png')\n",
    "\n",
    "if(PrintFigures):\n",
    "    custom_plot_single([axial_loc/nano], \n",
    "                       [avg_field[0]],\n",
    "                       [r'avg field',r'avg field (in channel)'],\n",
    "                       [-16,16],[-0.01,0.5],[r'y / (nm)',r'Avg. potential on CNT surface / (V)'],'Layer_vs_Potential.png')\n",
    "\n"
   ]
  },
  {
   "cell_type": "markdown",
   "id": "2a5c93fb",
   "metadata": {},
   "source": [
    "# NEGF"
   ]
  },
  {
   "cell_type": "markdown",
   "id": "fabda6a5",
   "metadata": {},
   "source": [
    "### parameter definition"
   ]
  },
  {
   "cell_type": "code",
   "execution_count": 318,
   "id": "4fac090f",
   "metadata": {},
   "outputs": [
    {
     "name": "stdout",
     "output_type": "stream",
     "text": [
      "G_quantum 0.00048422716981132076\n",
      "R_quantum 2065.1464071907617\n",
      "Radius of CNT (nm): 0.665453976774103\n",
      "bandgap, H/(eV): 0.5334704012453583\n",
      "[0. 0. 0. 0.]\n",
      "number of layers in the channel:  4\n",
      "q 17\n",
      "Int 0.3333333333333333\n",
      "d_R 17\n",
      "number of atoms per unit cell 68\n",
      "number of total modes or atoms along the ring 17\n",
      "number of modes used to construct hamiltonian 17\n"
     ]
    }
   ],
   "source": [
    "h=1.06e-34\n",
    "q=1.602e-19\n",
    "G_quantum=2*q**2/h #at zero temperature\n",
    "print('G_quantum',G_quantum)\n",
    "print('R_quantum',1/G_quantum)\n",
    "gamma=2.5 #eV\n",
    "acc=0.142e-9\n",
    "m=17\n",
    "n=0\n",
    "nano=1e-9\n",
    "\n",
    "#N=num_layers_ch\n",
    "#U=avg_field_ch\n",
    "\n",
    "def get_radius(acc,m,n):\n",
    "    return acc*(np.sqrt(3.)/(2*np.pi))*np.sqrt(m**2 + m*n + n**2)\n",
    "\n",
    "\n",
    "R = get_radius(acc,m,n)\n",
    "print('Radius of CNT (nm):', R/nano)\n",
    "\n",
    "Eg_min = acc*gamma/R\n",
    "print('bandgap, H/(eV):', Eg_min)\n",
    "\n",
    "Us=0.0 #V, Source potential\n",
    "Ud=0.0 #V, Drain potential\n",
    "\n",
    "N=4\n",
    "U=np.zeros(N)\n",
    "print(U)\n",
    "print('number of layers in the channel: ', N)\n",
    "\n",
    "q = math.gcd(m, n)\n",
    "Int=(m-n)/(3*q)\n",
    "print('q',q)\n",
    "print('Int',Int)\n",
    "if(Int.is_integer()):\n",
    "    d_R = 3*q\n",
    "else:\n",
    "    d_R = q\n",
    "print('d_R',d_R)\n",
    "Natoms_per_UC=int(4*(m**2+m*n+n**2)/d_R)\n",
    "print('number of atoms per unit cell',Natoms_per_UC)\n",
    "\n",
    "if(n==0): #zigzag\n",
    "    M =  int(Natoms_per_UC/4)\n",
    "elif(m==n): #armchair\n",
    "    M = int(Natoms_per_UC/2)\n",
    "else:\n",
    "    M = np.abs(m-n)\n",
    "print('number of total modes or atoms along the ring', M)\n",
    "M_red = M\n",
    "print('number of modes used to construct hamiltonian', M_red)\n"
   ]
  },
  {
   "cell_type": "markdown",
   "id": "7344bc40",
   "metadata": {},
   "source": [
    "### Bandgap (From Theory)"
   ]
  },
  {
   "cell_type": "code",
   "execution_count": 294,
   "id": "29fa2b00",
   "metadata": {},
   "outputs": [
    {
     "name": "stdout",
     "output_type": "stream",
     "text": [
      "M_arr [-17 -16 -15 -14 -13 -12 -11 -10  -9  -8  -7  -6  -5  -4  -3  -2  -1   1\n",
      "   2   3   4   5   6   7   8   9  10  11  12  13  14  15  16  17]\n",
      "mode, bandgap 1 7.468585617435016 2\n",
      "mode, bandgap 2 5.868174413698941 2\n",
      "mode, bandgap 3 4.267763209962866 2\n",
      "mode, bandgap 4 2.6673520062267913 2\n",
      "mode, bandgap 5 1.0669408024907165 2\n",
      "mode, bandgap 6 0.5334704012453583 2\n",
      "mode, bandgap 7 2.133881604981433 2\n",
      "mode, bandgap 8 3.734292808717508 2\n",
      "mode, bandgap 9 3.734292808717508 1\n",
      "mode, bandgap 10 2.133881604981433 1\n",
      "mode, bandgap 11 0.5334704012453583 1\n",
      "mode, bandgap 12 1.0669408024907165 1\n",
      "mode, bandgap 13 2.6673520062267913 1\n",
      "mode, bandgap 14 4.267763209962866 1\n",
      "mode, bandgap 15 5.868174413698941 1\n",
      "mode, bandgap 16 7.468585617435016 1\n",
      "mode, bandgap 17 9.06899682117109 1\n",
      "minimum bandgap, acc*gamma/R 0.5334704012453583 0.5334704012453583\n",
      "band with minimum bandgap:\n",
      "[ 6 11]\n",
      "size of sorted_M_arr: (17,)\n",
      "M_red_arr [ 6 11  5 12  7 10  4 13  8  9  3 14  2 15  1 16 17]\n"
     ]
    }
   ],
   "source": [
    "\n",
    "def get_bandgap_for_mode(p,acc,gamma,m,n):\n",
    "    R=get_radius(acc,m,n)\n",
    "    Eg_case=np.zeros(6,dtype=float)\n",
    "    if(p>0):\n",
    "        Eg_case[0] = (acc*gamma/R)*np.abs(3*p - (2*m+n))\n",
    "        Eg_case[1] = (acc*gamma/R)*np.abs(3*p - (m+2*n))\n",
    "        Eg_case[2] = (acc*gamma/R)*np.abs(3*p - (m-n))\n",
    "        Eg_case[3] = (acc*gamma/R)*np.abs(-3*p + (2*m+n))\n",
    "        Eg_case[4] = (acc*gamma/R)*np.abs(-3*p + (m+2*n))\n",
    "        Eg_case[5] = (acc*gamma/R)*np.abs(3*p - (m-n))\n",
    "    elif(p<0):\n",
    "        Eg_case[0] = (acc*gamma/R)*np.abs(-3*p - (2*m+n))\n",
    "        Eg_case[1] = (acc*gamma/R)*np.abs(-3*p - (m+2*n))\n",
    "        Eg_case[2] = (acc*gamma/R)*np.abs(-3*p - (m-n))\n",
    "        Eg_case[3] = (acc*gamma/R)*np.abs(3*p + (2*m+n))\n",
    "        Eg_case[4] = (acc*gamma/R)*np.abs(3*p + (m+2*n))\n",
    "        Eg_case[5] = (acc*gamma/R)*np.abs(-3*p - (m-n))\n",
    "     \n",
    "    Eg = np.amin(Eg_case)\n",
    "    min_index = np.argmin(Eg_case)\n",
    "    return (Eg,min_index+1)\n",
    "\n",
    "\n",
    "m_arranged=np.arange(1,M+1,1)\n",
    "m_arranged_rev=np.zeros(np.size(m_arranged),dtype=int)\n",
    "counter=0\n",
    "for i in reversed(m_arranged):\n",
    "    m_arranged_rev[counter] = -i\n",
    "    counter=counter+1\n",
    "M_arr = np.concatenate((m_arranged_rev,m_arranged))\n",
    "#M_arr = np.arange(-m+1,m,1)\n",
    "\n",
    "print('M_arr',M_arr)\n",
    "\n",
    "Eg_arr = np.zeros(M, dtype=float)\n",
    "counter=0\n",
    "for p in range(1,M+1):\n",
    "    eg, case = get_bandgap_for_mode(p,acc,gamma,m,n)\n",
    "    Eg_arr[p-1]=eg\n",
    "    print('mode, bandgap', p , Eg_arr[p-1], case)\n",
    "    #counter +=1\n",
    "\n",
    "Eg_min = np.amin(Eg_arr)\n",
    "print('minimum bandgap, acc*gamma/R',Eg_min, acc*gamma/R)\n",
    "\n",
    "Eg_min_index_arr = np.where(Eg_arr==Eg_arr.min())\n",
    "print('band with minimum bandgap:')\n",
    "for j in Eg_min_index_arr:\n",
    "    print(M_arr[M+j])\n",
    "    \n",
    "sorted_M_arr = [x for _,x in sorted(zip(Eg_arr,np.arange(1,M+1,1)))] \n",
    "#print('sorted_M_arr:',sorted_M_arr)\n",
    "print('size of sorted_M_arr:',np.shape(sorted_M_arr))\n",
    "\n",
    "M_red_arr = np.zeros(M_red,dtype=int)\n",
    "\n",
    "for i in range(0,M_red):\n",
    "    M_red_arr[i] = sorted_M_arr[i]\n",
    "    \n",
    "print('M_red_arr',M_red_arr)"
   ]
  },
  {
   "cell_type": "markdown",
   "id": "cd1ad42e",
   "metadata": {},
   "source": [
    "### Band structure and First Brillouin Zone\n"
   ]
  },
  {
   "cell_type": "code",
   "execution_count": 295,
   "id": "3aab3da4",
   "metadata": {
    "scrolled": false
   },
   "outputs": [
    {
     "name": "stdout",
     "output_type": "stream",
     "text": [
      "size of E_k (34, 2401)\n"
     ]
    }
   ],
   "source": [
    "def get_dispersion(m,gamma,nu,E_nu,kxa_arr):\n",
    "    kyb=2*np.pi*nu/(2*m)\n",
    "    for kxa in kxa_arr:\n",
    "        E_nu.append(gamma*np.sqrt(1+(4*np.cos(kyb)*np.cos(kxa))+(4*np.cos(kyb)**2)))\n",
    "\n",
    "k_pi=np.linspace(-np.pi,np.pi,2401) # range*pi    \n",
    "k = k_pi/np.pi\n",
    "\n",
    "nu_label=str(sorted_M_arr)\n",
    "#print(nu_label)\n",
    "E_k=[]\n",
    "linewidth=[]\n",
    "counter=0\n",
    "lw=3\n",
    "\n",
    "\n",
    "for p in sorted_M_arr:\n",
    "    E_nu=[]\n",
    "    get_dispersion(m,gamma,p,E_nu,k_pi)\n",
    "    E_k.append(E_nu)\n",
    "    E_nu_inv = []\n",
    "    for i in range(0,len(k)):\n",
    "        E_nu_inv.append(-1*E_nu[i])\n",
    "    E_k.append(E_nu_inv)\n",
    "    linewidth.append(lw)\n",
    "    linewidth.append(lw)\n",
    "    counter += 1\n",
    "    if (counter%2 == 0):\n",
    "        lw=4*np.exp(-0.2*counter)\n",
    "\n",
    "print('size of E_k',np.shape(E_k))\n",
    "\n",
    "if(PrintFigures):\n",
    "    custom_plot_single(2*M*[k], \n",
    "                       E_k,\n",
    "                       2*M*[None],\n",
    "                       [-1,1],[-8,8],[r'k$_x$ a/$\\pi$',r'Energy, E / (eV)'],'Dispersion_all.png',\n",
    "                       2*M*['k'],\n",
    "                       2*M*['solid'],\n",
    "                       2*M*[None],\n",
    "                       2*M*['none'],\n",
    "                       linewidth,2*M*['none'])"
   ]
  },
  {
   "cell_type": "code",
   "execution_count": 296,
   "id": "fe4c7198",
   "metadata": {},
   "outputs": [
    {
     "name": "stdout",
     "output_type": "stream",
     "text": [
      "p2 11\n",
      "gamma 2.5 1.42e-10 6.65453976774103e-10\n",
      "minimum band gap: (eV) 0.5334704012453583\n"
     ]
    }
   ],
   "source": [
    "import operator\n",
    "p1=sorted_M_arr[0]\n",
    "p2=sorted_M_arr[1]\n",
    "print('p2',p2)\n",
    "\n",
    "Eg = gamma*acc/R\n",
    "print('gamma',gamma,acc,R)\n",
    "a=3*acc/2 \n",
    "b=np.sqrt(3)*acc/2\n",
    "\n",
    "def get_linear_approximate_dispersion(m,gamma,nu,E_nu,kxa_arr,kf):\n",
    "    kyb=2*np.pi*nu/(2*m)\n",
    "    factor=-1\n",
    "    for kxa in kxa_arr:\n",
    "        if(kxa > 0):\n",
    "            factor =1\n",
    "        E_nu.append((3*gamma/2)*np.sqrt((kxa*2/3-factor*kf[0]*acc)**2 + ((kyb*2/np.sqrt(3)-kf[1]*acc))**2))      \n",
    "\n",
    "kf=[np.pi/a, np.pi/(3*b)]\n",
    "E_lin_1 = []\n",
    "get_linear_approximate_dispersion(m,gamma,p1,E_lin_1,k*np.pi,kf)\n",
    "E_lin_1_minus=list(map(operator.mul, E_lin_1, [-1]*len(E_lin_1))) #multiply all elements in list by -1\n",
    "\n",
    "kf=[0, 2*np.pi/(3*b)]\n",
    "E_lin_2 = []\n",
    "get_linear_approximate_dispersion(m,gamma,p2,E_lin_2,k*np.pi,kf)\n",
    "E_lin_2_minus=list(map(operator.mul, E_lin_2, [-1]*len(E_lin_2))) #multiply all elements in list by -1\n",
    "\n",
    "if(PrintFigures):\n",
    "    custom_plot_single([k,k,k,k,k,k,k,k], \n",
    "                       [E_k[2*1-2],E_k[2*1-1],E_k[2*2-2],E_k[2*2-1],\n",
    "                        E_lin_1,E_lin_1_minus,E_lin_2, E_lin_2_minus],\n",
    "                       [r'$\\nu$='+str(int(p1)),None, r'$\\nu$='+str(int(p2)), None, r'$\\nu$='+str(int(p1))+' (linear)',None, r'$\\nu$='+str(int(p2))+' (linear)',None],\n",
    "                       [-1,1],[-8,8],[r'k$_x$ a/$\\pi$',r'Energy, E / (eV)'],'Dispersion.png',\n",
    "                       ['k','k','b','b','r','r','g','g'],\n",
    "                       ['solid','solid','solid','solid','dashed','dashed','dashed','dashed'],\n",
    "                       8*[None],\n",
    "                       8*['none'])\n",
    "print('minimum band gap: (eV)', Eg)"
   ]
  },
  {
   "cell_type": "markdown",
   "id": "4da3b41a",
   "metadata": {},
   "source": [
    "### Construct hamiltonian H"
   ]
  },
  {
   "cell_type": "code",
   "execution_count": 297,
   "id": "0e075651",
   "metadata": {},
   "outputs": [],
   "source": [
    "#The following 2 functions are to create off-diagonal elements of a hamiltonian\n",
    "def get_zeros_and_ones(L,lst):\n",
    "    for i in range(0,L):\n",
    "        if(i%2==0):\n",
    "            lst.append(0)\n",
    "        else:\n",
    "            lst.append(1)\n",
    "            \n",
    "def get_ones_and_zeros(L, lst): \n",
    "    for i in range(0,L):\n",
    "        if(i%2==0):\n",
    "            lst.append(1)\n",
    "        else:\n",
    "            lst.append(0)\n",
    "\n",
    "lst_01 = [] \n",
    "lst_10 = [] \n",
    "\n",
    "get_zeros_and_ones(N-1, lst_01)\n",
    "get_ones_and_zeros(N-1, lst_10)\n",
    "\n",
    "def get_beta(gamma, M, J): #overlap coefficient in mode-space approximation\n",
    "    return 2*gamma*np.cos(np.pi*J/M) #*np.exp(-1j*np.pi*J/M)"
   ]
  },
  {
   "cell_type": "code",
   "execution_count": 298,
   "id": "c39253cb",
   "metadata": {},
   "outputs": [
    {
     "name": "stdout",
     "output_type": "stream",
     "text": [
      "(17, 4, 4)\n",
      "(68, 68)\n"
     ]
    }
   ],
   "source": [
    "H_mode=np.zeros((M_red,N,N),dtype=float)\n",
    "print(np.shape(H_mode))\n",
    "zero_mat=np.zeros((N,N),dtype=float)\n",
    "#print(np.shape(zero_mat))\n",
    "H=np.zeros((M_red*N,M_red*N),dtype=float)\n",
    "print(np.shape(H))\n",
    "beta = np.zeros(M_red,dtype=float)\n",
    "\n",
    "for i in range(0,M_red):\n",
    "    p=M_red_arr[i]\n",
    "    beta[i] = get_beta(gamma,M,p)\n",
    "    H_mode[i] =U*np.diag(np.ones(N)) + gamma*np.diag(lst_01,-1)  + beta[i]*np.diag(lst_10,-1) \\\n",
    "    + gamma*np.diag(lst_01,1) + beta[i]*np.diag(lst_10,1) \n",
    "\n",
    "H_lst=[]\n",
    "for i in range (0, M_red):\n",
    "    submat = []\n",
    "    for j in range(0, M_red):\n",
    "        if j==i:\n",
    "            submat.append(H_mode[i])\n",
    "        else:\n",
    "            submat.append(zero_mat)          \n",
    "    H_lst.append(submat)\n",
    "H=np.block(H_lst)\n",
    "\n",
    "if(PrintFigures):\n",
    "    plt.figure(figsize = (16,16))\n",
    "    sns.heatmap(H,cmap='coolwarm',annot=True)"
   ]
  },
  {
   "cell_type": "markdown",
   "id": "3f4b1daa",
   "metadata": {},
   "source": [
    "### define E-space\n"
   ]
  },
  {
   "cell_type": "code",
   "execution_count": 299,
   "id": "2a251f3b",
   "metadata": {
    "scrolled": false
   },
   "outputs": [
    {
     "name": "stdout",
     "output_type": "stream",
     "text": [
      "0.02567965312076\n",
      "0.0 0.0 0\n"
     ]
    }
   ],
   "source": [
    "Emin=-8.001 #eV\n",
    "Emax=8.001 #eV\n",
    "Epts=40000\n",
    "\n",
    "E=np.linspace(Emin,Emax,Epts,dtype=float)\n",
    "#print('E',E)\n",
    "\n",
    "#Define fermi energies and potential due to bias\n",
    "Ef=0\n",
    "kb=8.617333262e-5 #eV/K\n",
    "Temp=298 #K\n",
    "print(kb*Temp)\n",
    "mu_s=Ef + Us\n",
    "mu_d=Ef + Ud \n",
    "mu_c = Ef\n",
    "f_s=1./(1.+np.exp((E-mu_s)/(kb*Temp)))\n",
    "f_d=1./(1.+np.exp((E-mu_d)/(kb*Temp)))\n",
    "f_c=1./(1.+np.exp((E-mu_c)/(kb*Temp)))\n",
    "print(mu_s, mu_d, mu_c)\n",
    "\n",
    "dfdE_s = np.gradient(f_s)\n",
    "dfdE_d = np.gradient(f_d)\n",
    "dfdE_c = np.gradient(f_c)"
   ]
  },
  {
   "cell_type": "code",
   "execution_count": 300,
   "id": "e47ecc87",
   "metadata": {},
   "outputs": [],
   "source": [
    "if(PrintFigures):\n",
    "    custom_plot_single([E-Ef,E-Ef,E-Ef], \n",
    "                       [ f_s,f_d,f_c],\n",
    "                       [r'source (%.2f V)'%(Us),r'drain (%.2f V)'%(Ud),r'channel (%.f K)'%(Temp)],\n",
    "                       [-0.5,0.5],[0,1],[r'Energy, E / (eV)',r'Fermi function, f'],'fermi_functions.png',\n",
    "                       ['k','r','g'],\n",
    "                       ['solid','dashed','solid','dashed'],\n",
    "                       ['o','^','o','^'],\n",
    "                       4*['none'],\n",
    "                       [2,2,2,2])\n",
    "\n",
    "    custom_plot_single([E-Ef], \n",
    "                       [-dfdE_c ],\n",
    "                       [r'channel (%.f K)'%(Temp)],\n",
    "                       [-0.5,0.5],[0,0.005],[r'Energy, E / (eV)',r'Gradient of Fermi function, -$\\frac{\\partial{f}}{\\partial{E}}$'],'gradient_of_fermi_functions.png',\n",
    "                       ['k','r','k','r'],\n",
    "                       ['solid','dashed','solid','dashed'],\n",
    "                       ['o','^','o','^'],\n",
    "                       4*['none'],\n",
    "                       [2,2,2,2])\n"
   ]
  },
  {
   "cell_type": "markdown",
   "id": "070d6d4e",
   "metadata": {},
   "source": [
    "### compute self-energy\n"
   ]
  },
  {
   "cell_type": "code",
   "execution_count": 301,
   "id": "dcd0a24f",
   "metadata": {},
   "outputs": [],
   "source": [
    "def get_analytical_retarted_surface_GF(E, Us,gamma,beta_j,Print):\n",
    "    EmUs = E-Us\n",
    "    Factor=EmUs**2 + gamma**2 - beta_j**2\n",
    "    Sqrt=cmath.sqrt(Factor**2 - 4 * EmUs**2 * gamma**2)\n",
    "    Denom = 2 * gamma**2 * EmUs\n",
    "\n",
    "    Numer1= (Factor + Sqrt)\n",
    "    Numer2= (Factor - Sqrt)\n",
    "  \n",
    "    if(Print):\n",
    "        print('E,Us,gamma,beta_j',E,Us,gamma,beta_j)\n",
    "        print('*',4 * EmUs**2 * gamma**2/Factor**2)\n",
    "        print('Sqrt',Sqrt)\n",
    "        print('Denom',Denom)\n",
    "        print('Numer1',Numer1)\n",
    "        print('Numer2',Numer2)\n",
    "        print(np.imag(Numer1),np.imag(Numer2))\n",
    "\n",
    "    zplus=1j*1e-5 #small imaginary number\n",
    "\n",
    "    val1 = Numer1/Denom - zplus\n",
    "    val2 = Numer2/Denom - zplus\n",
    "    \n",
    "    val = 0. + 1j*0.\n",
    "    if(np.imag(val1) < 0.):\n",
    "        val = val1 \n",
    "    elif (np.imag(val2) < 0.):\n",
    "        val = val2 \n",
    "        \n",
    "    if(Print): print(val)\n",
    "#     if(np.abs(np.imag(val)) < 1e-2):\n",
    "#         val = -zplus\n",
    "    return val"
   ]
  },
  {
   "cell_type": "code",
   "execution_count": 302,
   "id": "d65e00f2",
   "metadata": {
    "scrolled": true
   },
   "outputs": [
    {
     "name": "stdout",
     "output_type": "stream",
     "text": [
      "Us,Ud 0.0 0\n"
     ]
    }
   ],
   "source": [
    "gR_surf_s1 = np.zeros((M_red,Epts),dtype=complex)\n",
    "gR_surf_d1 = np.zeros((M_red,Epts),dtype=complex)\n",
    "Ud=0\n",
    "print('Us,Ud',Us,Ud)\n",
    "\n",
    "for j in range(0,M_red):\n",
    "    Print=False\n",
    "    for e in range(0,Epts):\n",
    "        #if(j==10):\n",
    "        #    Print=True\n",
    "        gR_surf_s1[j][e] = get_analytical_retarted_surface_GF(E[e],Us,gamma,beta[j],Print)\n",
    "        gR_surf_d1[j][e] = get_analytical_retarted_surface_GF(E[e],Ud,gamma,beta[j],Print)\n"
   ]
  },
  {
   "cell_type": "code",
   "execution_count": 303,
   "id": "3e5279d6",
   "metadata": {},
   "outputs": [
    {
     "name": "stdout",
     "output_type": "stream",
     "text": [
      "minimum band gap/2 : (eV) 0.26673520062267914\n"
     ]
    }
   ],
   "source": [
    "if(PrintFigures):\n",
    "    custom_plot_single([E,E], \n",
    "                       [ np.imag(gR_surf_s1[0]),np.imag(gR_surf_d1[0]) ],\n",
    "                       [r'$g_1$, source ('+str(Us)+' V)',r'$g_1$, drain ('+str(Ud)+' V)'],\n",
    "                       [-9,9],[-0.45,0.1],[r'Energy, E / (eV)',r'Surface Green\\'s function, $g_1$'],'g1.png',\n",
    "                       ['r','r','b','b'],\n",
    "                       ['solid','dashed','solid','dashed'],\n",
    "                       4*[None],#['o','^','o','^'],\n",
    "                       4*['none'],\n",
    "                       [2,3,2,3])\n",
    "print('minimum band gap/2 : (eV)', Eg/2)\n"
   ]
  },
  {
   "cell_type": "markdown",
   "id": "d13c9d43",
   "metadata": {},
   "source": [
    "### compute Self-energy and Level-broadning"
   ]
  },
  {
   "cell_type": "code",
   "execution_count": 304,
   "id": "cd537114",
   "metadata": {},
   "outputs": [],
   "source": [
    "Sigma_s_comp = np.zeros((M_red,Epts),dtype=complex)\n",
    "Sigma_d_comp = np.zeros((M_red,Epts),dtype=complex)\n",
    "Gamma_s_comp = np.zeros((M_red,Epts),dtype=complex)\n",
    "Gamma_d_comp = np.zeros((M_red,Epts),dtype=complex)\n",
    "\n",
    "for j in range(0,M_red):\n",
    "    Sigma_s_comp[j] = gamma**2 * gR_surf_s1[j]\n",
    "    Sigma_d_comp[j] = gamma**2 * gR_surf_d1[j]\n",
    "        \n",
    "    Gamma_s_comp[j] = 1j*(Sigma_s_comp[j] - np.conjugate(Sigma_s_comp[j]))\n",
    "    Gamma_d_comp[j] = 1j*(Sigma_d_comp[j] - np.conjugate(Sigma_d_comp[j]))"
   ]
  },
  {
   "cell_type": "code",
   "execution_count": 305,
   "id": "131f485b",
   "metadata": {},
   "outputs": [
    {
     "name": "stdout",
     "output_type": "stream",
     "text": [
      "minimum band gap/2 : (eV) 0.26673520062267914\n"
     ]
    }
   ],
   "source": [
    "if(PrintFigures):\n",
    "    custom_plot_single([E,E,E,E], \n",
    "                       [ np.real(Sigma_s_comp[0]), np.imag(Sigma_s_comp[0]), np.real(Sigma_d_comp[0]), np.imag(Sigma_d_comp[0])],\n",
    "                       [r'$\\Re(\\Sigma_s^{1,1})$',r'$\\Im(\\Sigma_s^{1,1})$',r'$\\Re(\\Sigma_d^{N,N})$',r'$\\Im(\\Sigma_d^{N,N})$'],\n",
    "                       [0,4],[-3,3],[r'Energy, E / (eV)',r'Component of self-energy, $\\Sigma$'],'Sigma.png',\n",
    "                       ['r','r','b','b'],\n",
    "                       ['solid','dashed','solid','dashed'],\n",
    "                       ['o','^','o','^'],\n",
    "                       4*['none'],\n",
    "                       [2,3,2,3])\n",
    "print('minimum band gap/2 : (eV)', Eg/2)\n"
   ]
  },
  {
   "cell_type": "code",
   "execution_count": 306,
   "id": "134d07f9",
   "metadata": {},
   "outputs": [],
   "source": [
    "if(PrintFigures):\n",
    "    custom_plot_single([E,E], \n",
    "                       [ np.real(Gamma_s_comp[0]), np.real(Gamma_d_comp[0])],\n",
    "                       [r'$\\Gamma_s^{1,1}$',r'$\\Gamma_d^{N,N}$'],\n",
    "                       [-8,8],[0,5],[r'Energy, E / (eV)',r'Level broadning, $\\Gamma$'],'Gamma.png',\n",
    "                       ['r','b'],\n",
    "                       ['solid','dashed'],\n",
    "                       2*[None],\n",
    "                       2*['none'],\n",
    "                       [3,3])"
   ]
  },
  {
   "cell_type": "code",
   "execution_count": 307,
   "id": "15408159",
   "metadata": {},
   "outputs": [
    {
     "name": "stdout",
     "output_type": "stream",
     "text": [
      "0.00040006000149972465\n"
     ]
    }
   ],
   "source": [
    "from numpy.linalg import inv\n",
    "zplus=1j*1e-12 #small imaginary number\n",
    "\n",
    "T=np.zeros(Epts,dtype=float)\n",
    "Cond=np.zeros(Epts,dtype=float)\n",
    "\n",
    "D=np.zeros(Epts,dtype=float)\n",
    "\n",
    "Cond_tot = 0.\n",
    "I=0. #Current\n",
    "deltaE=E[1]-E[0]\n",
    "print(deltaE)"
   ]
  },
  {
   "cell_type": "code",
   "execution_count": 308,
   "id": "261f8820",
   "metadata": {
    "scrolled": false
   },
   "outputs": [],
   "source": [
    "for e in range(0,Epts):\n",
    "    Sigma_s=np.zeros((M_red*N,M_red*N),dtype=complex)\n",
    "    Sigma_d=np.zeros((M_red*N,M_red*N),dtype=complex)\n",
    "    Gamma_s=np.zeros((M_red*N,M_red*N),dtype=complex)\n",
    "    Gamma_d=np.zeros((M_red*N,M_red*N),dtype=complex)\n",
    "    for j in range(0,M_red):\n",
    "        Sigma_s[j*N][j*N] = Sigma_s_comp[j][e]\n",
    "        Sigma_d[(j+1)*N-1][(j+1)*N-1] = Sigma_d_comp[j][e]\n",
    "        Gamma_s[j*N][j*N] = Gamma_s_comp[j][e]\n",
    "        Gamma_d[(j+1)*N-1][(j+1)*N-1] = Gamma_d_comp[j][e]\n",
    "#         print('\\Sigma_s',Sigma_s[j*N][j*N], Sigma_s_comp[j][e])\n",
    "#         print('\\Sigma_d',Sigma_d[(j+1)*N-1][(j+1)*N-1], Sigma_d_comp[j][e])\n",
    "#         print('\\Gamma_s',Gamma_s[j*N][j*N], Gamma_s_comp[j][e])\n",
    "#         print('\\Gamma_d',Gamma_d[(j+1)*N-1][(j+1)*N-1], Gamma_d_comp[j][e])  \n",
    "\n",
    "    #or do the following (OK because Sigma matrix is diagonal)\n",
    "    #Gamma_s = 1j*(Sigma_s - Sigma_s.conj().T) \n",
    "    #Gamma_d = 1j*(Sigma_d - Sigma_d.conj().T) \n",
    "    #sns.heatmap(np.real(Sigma_d+Sigma_s),cmap='coolwarm',annot=True)\n",
    "    \n",
    "    G_R=inv(((E[e]+zplus)*np.eye(M_red*N))- H - Sigma_s - Sigma_d)\n",
    "    G_A = G_R.conj().T\n",
    "    T[e]=np.real(np.trace(Gamma_s@G_R@Gamma_d@G_A))\n",
    "    Cond[e]= -G_quantum*T[e]*dfdE_c[e]\n",
    "    D[e]=np.real(np.trace(1j*(G_R - G_A)/(2*np.pi)))\n",
    "    Cond_tot += Cond[e]*deltaE\n",
    "\n",
    "     \n",
    "#    I=I+(dE*IE*T[e]*(f1[k]-f2[k])) "
   ]
  },
  {
   "cell_type": "code",
   "execution_count": 309,
   "id": "43b42346",
   "metadata": {},
   "outputs": [
    {
     "name": "stdout",
     "output_type": "stream",
     "text": [
      "2.004784054996696e-11\n"
     ]
    }
   ],
   "source": [
    "print(Cond_tot)"
   ]
  },
  {
   "cell_type": "code",
   "execution_count": 310,
   "id": "fcea19fe",
   "metadata": {},
   "outputs": [],
   "source": [
    "if(PrintFigures):\n",
    "    custom_plot_single([E], \n",
    "                       [T/M_red],\n",
    "                       [r'$T(E) (%d,%d)$'%(m,n)],\n",
    "                       [-8,10],[0,1.1],[r'Energy, E / (eV)',r'Transmission probability, T'],'Transmission_Prob_%d_%d.png'%(m,n),\n",
    "                       ['k'],\n",
    "                       ['solid'],\n",
    "                       1*[None],\n",
    "                       1*['none'],\n",
    "                       [3])\n"
   ]
  },
  {
   "cell_type": "code",
   "execution_count": 311,
   "id": "155bb85b",
   "metadata": {},
   "outputs": [
    {
     "name": "stdout",
     "output_type": "stream",
     "text": [
      "[-0.00000000e+000 -0.00000000e+000 -0.00000000e+000 ...  1.41592066e-144\n",
      "  1.39434209e-144  1.38378776e-144]\n"
     ]
    }
   ],
   "source": [
    "print(Cond)"
   ]
  },
  {
   "cell_type": "code",
   "execution_count": 312,
   "id": "f477623a",
   "metadata": {},
   "outputs": [],
   "source": [
    "if(PrintFigures):\n",
    "    custom_plot_single([E], \n",
    "                       [Cond/G_quantum],\n",
    "                       [r'$(%d,%d)$'%(m,n)],\n",
    "                       [-2,2],[0,1e-6],[r'Energy, E / (eV)',r'Integrand of Conductance function, $G/(2q^2/h)$'],'Conductance_%d_%d.png'%(m,n),\n",
    "                       ['k'],\n",
    "                       ['solid'],\n",
    "                       1*[None],\n",
    "                       1*['none'],\n",
    "                       [3])\n"
   ]
  },
  {
   "cell_type": "code",
   "execution_count": 313,
   "id": "66cf6cd2",
   "metadata": {},
   "outputs": [
    {
     "name": "stdout",
     "output_type": "stream",
     "text": [
      "[0.95819402 0.9579825  0.95777102 ... 0.95777102 0.9579825  0.95819402]\n"
     ]
    }
   ],
   "source": [
    "print(D)"
   ]
  },
  {
   "cell_type": "markdown",
   "id": "52791c2c",
   "metadata": {},
   "source": [
    "# Comparison with Mintmire & White (Theory and First principles)"
   ]
  },
  {
   "cell_type": "code",
   "execution_count": 314,
   "id": "45b2931f",
   "metadata": {},
   "outputs": [
    {
     "name": "stdout",
     "output_type": "stream",
     "text": [
      "28.0\n",
      "Mode_arr_Mintmire [-17. -16. -15. -14. -13. -12. -11. -10.  -9.  -8.  -7.  -6.  -5.  -4.\n",
      "  -3.  -2.  -1.   0.   1.   2.   3.   4.   5.   6.   7.   8.   9.  10.\n",
      "  11.  12.  13.  14.  15.  16.  17.]\n",
      "Lambda_Mintmire 9.372591222170465\n",
      "sorted_M_arr [6, 11, 5, 12, 7, 10, 4, 13, 8, 9, 3, 14, 2, 15, 1, 16, 17]\n"
     ]
    }
   ],
   "source": [
    "nu0=np.round(2*m/3)\n",
    "print(nu0+M)\n",
    "#Mode_arr_Mintmire=np.linspace(-M,M,2*M+1)\n",
    "Mode_arr_Mintmire=np.linspace(-M,M,2*M+1)\n",
    "\n",
    "#Mode_arr_datta=np.linspace(nu0-M,nu0+M,2*M+1)\n",
    "print('Mode_arr_Mintmire',Mode_arr_Mintmire)\n",
    "#print('Mode_arr_datta',Mode_arr_datta)\n",
    "\n",
    "Lambda_Mintmire = 2*R/acc\n",
    "print('Lambda_Mintmire',Lambda_Mintmire)\n",
    "\n",
    "print('sorted_M_arr',sorted_M_arr)"
   ]
  },
  {
   "cell_type": "code",
   "execution_count": 315,
   "id": "a3f2bab5",
   "metadata": {
    "scrolled": true
   },
   "outputs": [],
   "source": [
    "##Francois' book\n",
    "D_th_lin = np.zeros(Epts, dtype=float)\n",
    "\n",
    "for e in range(0,Epts):\n",
    "    const = acc*np.sqrt(3)/(np.pi**2*R*gamma)\n",
    "    Sum=0.\n",
    "    for nu in Mode_arr_Mintmire:   \n",
    "        eps_m = np.abs(3*nu-m+n)*acc*gamma/(2*R) \n",
    "        if(np.abs(E[e]) > np.abs(eps_m)):\n",
    "            Sum += np.abs(E[e])/cmath.sqrt(E[e]**2 - eps_m**2)\n",
    "        elif(np.abs(E[e]) < np.abs(eps_m)):\n",
    "            Sum +=0\n",
    "    D_th_lin[e] = const*np.real(Sum)#*num_atoms\n",
    "\n",
    "dE_dk = np.zeros((M,np.size(k)),dtype=float)\n",
    "for p in range(1,M+1):\n",
    "    dE_dk[p-1] = np.gradient(E_k[p*2-2])\n",
    "    \n",
    "# D_th = np.zeros(Epts, dtype=float)   \n",
    "# for e in range(0,Epts):\n",
    "#     print('e',e)\n",
    "#     const = acc**2*np.sqrt(3)/(np.pi**2*R)\n",
    "#     Sum=0.+1j*0.\n",
    "#     for p in range(1,M+1):\n",
    "#         #print(p)\n",
    "#         k_sum=0.\n",
    "#         for kx in range(0,np.size(k)):\n",
    "#             convergence=np.abs((np.abs(E[e])-np.abs(E_k[p*2-2][kx]))/E[e])\n",
    "#             if(convergence < 1e-3): \n",
    "#                 k_sum += 1./(np.abs(dE_dk[p-1][kx]))\n",
    "#                 if(np.abs(dE_dk[p-1][kx])==0):\n",
    "#                     print('mode, convergence, E, E(k)', sorted_M_arr[p-1], convergence, E[e],E_k[p*2-2][kx])\n",
    "#             else:\n",
    "#                 k_sum=0.\n",
    "#         Sum += k_sum*(k[1]-k[0])\n",
    "#     D_th[e] = const*np.real(Sum)\n",
    "\n",
    "\n",
    "###Supriyo Datta's\n",
    "#\n",
    "# D_th_datta = np.zeros(Epts, dtype=float)\n",
    "\n",
    "# for e in range(0,Epts):\n",
    "#     a=3*acc/2.\n",
    "#     L=1*(3/4)*acc/17\n",
    "#     const = (2*L/(np.pi*a*gamma))\n",
    "#     Sum=0.\n",
    "#     for nu in Mode_arr_datta:\n",
    "#         Ek = (gamma*2*np.pi/np.sqrt(3))*(3*nu/(2*m)-1)+1j*1e-12\n",
    "#         Sum += E[e]/cmath.sqrt(E[e]**2 - Ek**2)\n",
    "        \n",
    "#     D_th_datta[e] = const*Sum"
   ]
  },
  {
   "cell_type": "code",
   "execution_count": 316,
   "id": "d3f6c47f",
   "metadata": {},
   "outputs": [],
   "source": [
    "if(PrintFigures):\n",
    "    custom_plot_single([Lambda_Mintmire*E/gamma,Lambda_Mintmire*E/gamma], \n",
    "                       [Lambda_Mintmire*gamma*D*2/M/N,Lambda_Mintmire*gamma*D_th_lin],\n",
    "                       [r'NEGF [(%d,%d) CNT]'%(m,n), r'Mintmire & White (Theory)'],\n",
    "                       [-5,5],[0,10],[r'Normalized energy, $\\Lambda E$ / $\\gamma$',r'Normalized Density of States, $\\Lambda \\gamma D(E)$'],'DOS_MintmireCompare_%d_%d.png'%(m,n),\n",
    "                       ['k','r','b'],\n",
    "                       ['solid','dashed','dotted'],\n",
    "                       3*[None],\n",
    "                       3*['none'],\n",
    "                       3*[3])"
   ]
  },
  {
   "cell_type": "code",
   "execution_count": 317,
   "id": "de4e0fdd",
   "metadata": {},
   "outputs": [
    {
     "name": "stdout",
     "output_type": "stream",
     "text": [
      "m, n, bandgap_negf, bandgap_theory:  17 0 0.5428814220355509 0.5334704012453583\n"
     ]
    }
   ],
   "source": [
    "def get_bandgap_from_DOS(E, Dnorm):\n",
    "    Epts = np.size(E)\n",
    "    e_plus_traverse = True\n",
    "    e_minus_traverse = True\n",
    "    e_plus = 0.\n",
    "    e_minus = 0.\n",
    "    bandgap = 0.\n",
    "    if(Dnorm[int(Epts/2.)] > 1e-3):\n",
    "        bandgap = 0. \n",
    "    else:\n",
    "        for e in range(int(Epts/2.), Epts):\n",
    "            if(e_plus_traverse):\n",
    "                if(E[e] > 0.):\n",
    "                    if(Dnorm[e] > 0.1):\n",
    "                        e_plus = E[e]\n",
    "                        e_plus_traverse = False\n",
    "                        break\n",
    "                \n",
    "        for e in np.arange(int(Epts/2.), 0,-1):\n",
    "            if(e_minus_traverse):\n",
    "                if(E[e] < 0.):\n",
    "                    if(Dnorm[e] > 0.1):\n",
    "                        e_minus = E[e]\n",
    "                        e_minus_traverse = False\n",
    "                        break\n",
    "                        print(E[e],D[e])\n",
    "        bandgap = e_plus - e_minus\n",
    "    return bandgap\n",
    "\n",
    "bandgap_negf = get_bandgap_from_DOS(E, Lambda_Mintmire*gamma*D*2/M/N )\n",
    "print('m, n, bandgap_negf, bandgap_theory: ', m, n, bandgap_negf, Eg_min)"
   ]
  },
  {
   "cell_type": "code",
   "execution_count": null,
   "id": "dc6ba539",
   "metadata": {},
   "outputs": [],
   "source": []
  },
  {
   "cell_type": "code",
   "execution_count": null,
   "id": "5eff7b47",
   "metadata": {},
   "outputs": [],
   "source": []
  },
  {
   "cell_type": "code",
   "execution_count": null,
   "id": "5224ad0b",
   "metadata": {},
   "outputs": [],
   "source": []
  }
 ],
 "metadata": {
  "kernelspec": {
   "display_name": "Python 3 (ipykernel)",
   "language": "python",
   "name": "python3"
  },
  "language_info": {
   "codemirror_mode": {
    "name": "ipython",
    "version": 3
   },
   "file_extension": ".py",
   "mimetype": "text/x-python",
   "name": "python",
   "nbconvert_exporter": "python",
   "pygments_lexer": "ipython3",
   "version": "3.10.6"
  }
 },
 "nbformat": 4,
 "nbformat_minor": 5
}
